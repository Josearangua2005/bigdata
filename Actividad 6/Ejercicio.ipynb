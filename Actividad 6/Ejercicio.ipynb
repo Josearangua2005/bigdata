{
 "cells": [
  {
   "cell_type": "code",
   "execution_count": null,
   "id": "33c77274",
   "metadata": {},
   "outputs": [],
   "source": [
    "import requests\n",
    "import pandas as pd\n",
    "import numpy as np\n",
    "from keys import *\n",
    "\n",
    "# Realiza una solicitud a la API de OpenWeather para obtener el pronóstico meteorológico\n",
    "city = \"Tokyo\"\n",
    "country = \"JP\"\n",
    "response = requests.get(f'http://api.openweathermap.org/data/2.5/forecast/?q={city},{country}&appid={OWM_key}&units=metric&lang=en')\n",
    "data = response.json()"
   ]
  },
  {
   "cell_type": "code",
   "execution_count": null,
   "id": "05fbff95",
   "metadata": {},
   "outputs": [],
   "source": [
    "# Obtiene la lista de previsiones meteorológicas\n",
    "forecast_list = data.get('list', [])"
   ]
  },
  {
   "cell_type": "code",
   "execution_count": null,
   "id": "45e31bb9",
   "metadata": {},
   "outputs": [],
   "source": [
    "#  Extrae la información meteorológica relevante y la almacena en listas separadas\n",
    "times = []\n",
    "temperatures = []\n",
    "humidities = []\n",
    "weather_statuses = []\n",
    "wind_speeds = []\n",
    "rain_volumes = []\n",
    "snow_volumes = []\n",
    "\n",
    "for entry in forecast_list:\n",
    "    times.append(entry.get('dt_txt', np.nan))\n",
    "    temperatures.append(entry.get('main', {}).get('temp', np.nan))\n",
    "    humidities.append(entry.get('main', {}).get('humidity', np.nan))\n",
    "    weather_statuses.append(entry.get('weather', [{}])[0].get('main', np.nan))\n",
    "    wind_speeds.append(entry.get('wind', {}).get('speed', np.nan))\n",
    "    rain_volumes.append(entry.get('rain', {}).get('3h', np.nan))\n",
    "    snow_volumes.append(entry.get('snow', {}).get('3h', np.nan))"
   ]
  },
  {
   "cell_type": "code",
   "execution_count": null,
   "id": "d634aa8d",
   "metadata": {},
   "outputs": [],
   "source": [
    "# Crear el dataframe\n",
    "df = pd.DataFrame({\n",
    "    'time': times,\n",
    "    'temperature': temperatures,\n",
    "    'humidity': humidities,\n",
    "    'weather_status': weather_statuses,\n",
    "    'wind_speed': wind_speeds,\n",
    "    'rain_volume_3h': rain_volumes,\n",
    "    'snow_volume_3h': snow_volumes\n",
    "})\n",
    "\n",
    "print(df.head())"
   ]
  }
 ],
 "metadata": {
  "kernelspec": {
   "display_name": "Python 3",
   "language": "python",
   "name": "python3"
  },
  "language_info": {
   "name": "python",
   "version": "3.11.9"
  }
 },
 "nbformat": 4,
 "nbformat_minor": 5
}
